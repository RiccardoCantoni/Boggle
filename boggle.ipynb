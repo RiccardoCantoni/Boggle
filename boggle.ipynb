{
 "cells": [
  {
   "cell_type": "code",
   "execution_count": 1,
   "metadata": {},
   "outputs": [],
   "source": [
    "%load_ext autoreload\n",
    "%autoreload\n",
    "\n",
    "import json\n",
    "import bogglesolver as boggle\n",
    "\n",
    "with open('words_dictionary.json') as data_file:    \n",
    "    data = json.load(data_file)\n",
    "#data = []\n",
    "#with open('sowpods.txt') as f:\n",
    "#    for line in f:\n",
    "#        data.append(line)\n",
    "    \n",
    "all_words = []\n",
    "for d in data:\n",
    "    all_words.append(d)\n"
   ]
  },
  {
   "cell_type": "code",
   "execution_count": 13,
   "metadata": {},
   "outputs": [
    {
     "name": "stdout",
     "output_type": "stream",
     "text": [
      "word count: 370101\n",
      "avg word length: 9.442568379982761\n",
      "vowel fraction: 0.39155075794688193\n",
      "v followed by v: 0.05332620281834565\n",
      "v followed by c: 0.3586498619502855\n",
      "c followed by v: 0.356356127618296\n",
      "c followed by c: 0.2316678076130729\n"
     ]
    }
   ],
   "source": [
    "print(\"word count: \"+ str(len(all_words)))\n",
    "\n",
    "letter_count=0\n",
    "for t in all_words:\n",
    "    letter_count=letter_count+len(t)    \n",
    "print(\"avg word length: \"+str(letter_count/len(all_words)))\n",
    "\n",
    "vowels = list('aeiou')\n",
    "vow_count = 0\n",
    "for w in all_words:\n",
    "    for l in w:\n",
    "        if l in vowels:\n",
    "            vow_count=vow_count+1\n",
    "VOWEL_P = vow_count/letter_count\n",
    "print(\"vowel fraction: \"+str(VOWEL_P))\n",
    "\n",
    "LETTER_DISTR = {}\n",
    "for l in list('abcdefghijklmnopqrstuvwxyz'):\n",
    "    LETTER_DISTR[l] = 0\n",
    "for t in all_words:\n",
    "    for l in t:\n",
    "        if l in list('abcdefghijklmnopqrstuvwxyz'):\n",
    "            LETTER_DISTR[l] = LETTER_DISTR[l]+1\n",
    "for l in LETTER_DISTR:\n",
    "    LETTER_DISTR[l]=LETTER_DISTR[l]/letter_count\n",
    "    \n",
    "vv = 0\n",
    "vc = 0\n",
    "cc = 0\n",
    "cv = 0\n",
    "def is_vowel(x):\n",
    "    return x in list('aeiou')\n",
    "def is_consonant(x):\n",
    "    return x in list('bcdfghjklmnpqrstvwxyz')\n",
    "\n",
    "for w in all_words:\n",
    "    for i in range(0, len(w)-1):\n",
    "        a = w[i]\n",
    "        b = w[i+1]\n",
    "        if is_vowel(a):\n",
    "            if is_vowel(b):\n",
    "                vv = vv+1\n",
    "                continue\n",
    "            if is_consonant(b):\n",
    "                vc = vc+1\n",
    "                continue\n",
    "        if is_consonant(a):\n",
    "            if is_vowel(b):\n",
    "                cv = cv+1\n",
    "                continue\n",
    "            if is_consonant(b):\n",
    "                cc = cc+1\n",
    "                continue\n",
    "                \n",
    "print(\"v followed by v: \"+str(vv/(vv+vc+cc+cv)))\n",
    "print(\"v followed by c: \"+str(vc/(vv+vc+cc+cv)))\n",
    "print(\"c followed by v: \"+str(cv/(vv+vc+cc+cv)))\n",
    "print(\"c followed by c: \"+str(cc/(vv+vc+cc+cv)))"
   ]
  },
  {
   "cell_type": "code",
   "execution_count": 3,
   "metadata": {},
   "outputs": [],
   "source": [
    "T = boggle.Tester(all_words, 4)"
   ]
  },
  {
   "cell_type": "code",
   "execution_count": 4,
   "metadata": {
    "scrolled": true
   },
   "outputs": [
    {
     "name": "stdout",
     "output_type": "stream",
     "text": [
      "141.426\n"
     ]
    }
   ],
   "source": [
    "%autoreload\n",
    "\n",
    "import datetime\n",
    "import random as rnd\n",
    "\n",
    "def printmatrix(ls, size):\n",
    "    print(ls)\n",
    "    lls = []\n",
    "    for r in range(0,size):\n",
    "        line = []\n",
    "        for c in range(0,size):\n",
    "            line.append(ls[r*size+c])\n",
    "        lls.append(line)\n",
    "    print(\"=====\")\n",
    "    for line in lls:\n",
    "        print(line)\n",
    "\n",
    "CHARSET = list('abcdefghijklmnopqrstuvwxyz')\n",
    "VOWELS = list('aeiou')\n",
    "CONSONANTS = list('bcdfghjklmnpqrstvwxyz')\n",
    "\n",
    "def generateRandom(size):\n",
    "    ls = []\n",
    "    for i in range(0,size*size):\n",
    "        ls.append(CHARSET[rnd.randint(0,len(CHARSET)-1)])\n",
    "    return ls\n",
    "\n",
    "inputs = []\n",
    "for i in range(0,1000):\n",
    "    inputs.append(generateRandom(4))\n",
    "    \n",
    "res = T.test_multiple(inputs)\n",
    "print(res.avg_word_num)"
   ]
  },
  {
   "cell_type": "code",
   "execution_count": 5,
   "metadata": {},
   "outputs": [
    {
     "name": "stdout",
     "output_type": "stream",
     "text": [
      "202.089\n"
     ]
    }
   ],
   "source": [
    "def generateVowelRatio(size):\n",
    "    ls = []\n",
    "    for i in range(0, size*size):\n",
    "        x = rnd.random()\n",
    "        if x<=VOWEL_P:\n",
    "            ls.append(rnd.choice(VOWELS))\n",
    "        else:\n",
    "            ls.append(rnd.choice(CONSONANTS))\n",
    "    return ls\n",
    "\n",
    "inputs = []\n",
    "for i in range(0,1000):\n",
    "    inputs.append(generateVowelRatio(4))\n",
    "    \n",
    "res = T.test_multiple(inputs)\n",
    "print(res.avg_word_num)"
   ]
  },
  {
   "cell_type": "code",
   "execution_count": 11,
   "metadata": {},
   "outputs": [
    {
     "name": "stdout",
     "output_type": "stream",
     "text": [
      "404.117\n"
     ]
    }
   ],
   "source": [
    "def weighted_random_choice(choices):\n",
    "    m = sum(choices.values())\n",
    "    pick = rnd.uniform(0, m)\n",
    "    current = 0\n",
    "    for key, value in choices.items():\n",
    "        current += value\n",
    "        if current > pick:\n",
    "            return key\n",
    "     \n",
    "def generateFromDistribution(size):\n",
    "    ls = []\n",
    "    for i in range(0,size*size):\n",
    "        ls.append(weighted_random_choice(LETTER_DISTR))\n",
    "    return ls\n",
    "    \n",
    "inputs = []\n",
    "for i in range(0,1000):\n",
    "    inputs.append(generateFromDistribution(4))\n",
    "       \n",
    "res = T.test_multiple(inputs)\n",
    "print(res.avg_word_num)"
   ]
  },
  {
   "cell_type": "code",
   "execution_count": 17,
   "metadata": {},
   "outputs": [
    {
     "name": "stdout",
     "output_type": "stream",
     "text": [
      "436.406\n"
     ]
    }
   ],
   "source": [
    "VOWEL_DISTR = {}\n",
    "CONSONANT_DISTR = {}\n",
    "for x in letter_distr:\n",
    "    if x in VOWELS:\n",
    "        VOWEL_DISTR[x]=LETTER_DISTR[x]\n",
    "    else:\n",
    "        CONSONANT_DISTR[x]=LETTER_DISTR[x]\n",
    "\n",
    "def get_ratio(ls):\n",
    "    v_num = 0\n",
    "    if len(ls) == 0:\n",
    "        return 0\n",
    "    for x in ls:\n",
    "        if x in VOWELS:\n",
    "            v_num = v_num+1 \n",
    "    return v_num/len(ls)\n",
    "        \n",
    "def generateFromDistributionBalanced(size):\n",
    "    ls = []\n",
    "    for i in range(0, size*size):\n",
    "        v_ratio = get_ratio(ls)\n",
    "        if v_ratio<VOWEL_P:\n",
    "            ls.append(weighted_random_choice(VOWEL_DISTR))\n",
    "        else:\n",
    "            ls.append(weighted_random_choice(CONSONANT_DISTR))\n",
    "    rnd.shuffle(ls)\n",
    "    return ls\n",
    "           \n",
    "inputs = []\n",
    "for i in range(0,1000):\n",
    "    inputs.append(generateFromDistributionBalanced(4))\n",
    "       \n",
    "res = T.test_multiple(inputs)\n",
    "print(res.avg_word_num)"
   ]
  },
  {
   "cell_type": "code",
   "execution_count": 22,
   "metadata": {},
   "outputs": [
    {
     "data": {
      "text/plain": [
       "[<matplotlib.lines.Line2D at 0x1ca71398fd0>]"
      ]
     },
     "execution_count": 22,
     "metadata": {},
     "output_type": "execute_result"
    },
    {
     "data": {
      "image/png": "[encoded data removed]",
      "text/plain": [
       "<Figure size 432x288 with 1 Axes>"
      ]
     },
     "metadata": {},
     "output_type": "display_data"
    }
   ],
   "source": [
    "import matplotlib.pyplot as plt\n",
    "\n",
    "def generateVowelNumber(size, vowel_number):\n",
    "    ls = []\n",
    "    for i in range(0,vowel_number):\n",
    "        ls.append(weighted_random_choice(VOWEL_DISTR))\n",
    "    for i in range(vowel_number, size*size):\n",
    "        ls.append(weighted_random_choice(CONSONANT_DISTR))\n",
    "    rnd.shuffle(ls)\n",
    "    return ls\n",
    "\n",
    "counts = []\n",
    "for i in range(1,16):\n",
    "    inputs = []\n",
    "    for i in range(0,1000):\n",
    "        inputs.append(generateVowelNumber(4,i))\n",
    "    res = T.test_multiple(inputs)\n",
    "    counts.append(res.avg_word_num)\n",
    "    \n",
    "plt.plot(counts)"
   ]
  },
  {
   "cell_type": "code",
   "execution_count": null,
   "metadata": {},
   "outputs": [],
   "source": []
  },
  {
   "cell_type": "code",
   "execution_count": 48,
   "metadata": {},
   "outputs": [
    {
     "data": {
      "image/png": "[encoded data removed]",
      "text/plain": [
       "<Figure size 432x288 with 1 Axes>"
      ]
     },
     "metadata": {},
     "output_type": "display_data"
    }
   ],
   "source": [
    "G=nx.Graph()\n",
    "for i in range(1,14):\n",
    "    G.add_node(i)  \n",
    "G.add_edge(1,2)  \n",
    "G.add_edge(2,3)\n",
    "G.add_edge(3,4)\n",
    "G.add_edge(4,5)\n",
    "G.add_edge(5,6)\n",
    "G.add_edge(2,7)\n",
    "G.add_edge(7,8)\n",
    "G.add_edge(7,9)\n",
    "G.add_edge(9,10)\n",
    "G.add_edge(1,11)\n",
    "G.add_edge(11,12)\n",
    "G.add_edge(12,13)\n",
    "G.add_edge(4,14)\n",
    "\n",
    "posdict = {}\n",
    "posdict[6]=(0,0)\n",
    "posdict[5]=(1,1)\n",
    "posdict[4]=(2,2)\n",
    "posdict[3]=(3,3)\n",
    "posdict[2]=(4,4)\n",
    "posdict[1]=(5,5)\n",
    "posdict[7]=(5,3)\n",
    "posdict[8]=(4,2)\n",
    "posdict[9]=(6,2)\n",
    "posdict[10]=(7,1)\n",
    "posdict[11]=(6,4)\n",
    "posdict[12]=(7,3)\n",
    "posdict[13]=(8,2)\n",
    "posdict[14]=(3,1)\n",
    "\n",
    "abc = [r'$\\epsilon$','h','e','l','l*','o*','o','t*','p','e*','b','a','t*','p*']\n",
    "labels = {}\n",
    "for i in range(1,15):\n",
    "    labels[i]=abc[i-1]\n",
    "    \n",
    "plt.axis('off')\n",
    "nx.draw_networkx(G, posdict, node_color=\"w\", labels=labels)\n",
    "plt.savefig('tree.png')"
   ]
  },
  {
   "cell_type": "code",
   "execution_count": null,
   "metadata": {},
   "outputs": [],
   "source": []
  },
  {
   "cell_type": "code",
   "execution_count": null,
   "metadata": {},
   "outputs": [],
   "source": []
  }
 ],
 "metadata": {
  "kernelspec": {
   "display_name": "Python 3",
   "language": "python",
   "name": "python3"
  },
  "language_info": {
   "codemirror_mode": {
    "name": "ipython",
    "version": 3
   },
   "file_extension": ".py",
   "mimetype": "text/x-python",
   "name": "python",
   "nbconvert_exporter": "python",
   "pygments_lexer": "ipython3",
   "version": "3.6.5"
  }
 },
 "nbformat": 4,
 "nbformat_minor": 2
}
