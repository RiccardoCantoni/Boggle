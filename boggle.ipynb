{
 "cells": [
  {
   "cell_type": "code",
   "execution_count": 1,
   "metadata": {},
   "outputs": [],
   "source": [
    "%load_ext autoreload\n",
    "%autoreload\n",
    "\n",
    "import json\n",
    "import bogglesolver as boggle\n",
    "import numpy as np\n",
    "\n",
    "CHARSET = list('abcdefghijklmnopqrstuvwxyz')\n",
    "\n",
    "with open('words_dictionary.json') as data_file:    \n",
    "    data = json.load(data_file)\n",
    "#data = []\n",
    "#with open('sowpods.txt') as f:\n",
    "#    for line in f:\n",
    "#        data.append(line)\n",
    "    \n",
    "all_words = []\n",
    "for d in data:\n",
    "    if all(list(map(lambda x: x in CHARSET, list(d)))):\n",
    "        all_words.append(d)\n"
   ]
  },
  {
   "cell_type": "code",
   "execution_count": 2,
   "metadata": {},
   "outputs": [
    {
     "name": "stdout",
     "output_type": "stream",
     "text": [
      "word count: 370099\n",
      "avg word length: 9.44254915576643\n",
      "vowel fraction: 0.3915508095452571\n",
      "v followed by v: 0.053325584022679534\n",
      "v followed by c: 0.3586505574030933\n",
      "c followed by v: 0.35635616830299377\n",
      "c followed by c: 0.23166769027123335\n"
     ]
    }
   ],
   "source": [
    "print(\"word count: \"+ str(len(all_words)))\n",
    "\n",
    "letter_count=0\n",
    "for t in all_words:\n",
    "    letter_count=letter_count+len(t)    \n",
    "print(\"avg word length: \"+str(letter_count/len(all_words)))\n",
    "\n",
    "vowels = list('aeiou')\n",
    "vow_count = 0\n",
    "for w in all_words:\n",
    "    for l in w:\n",
    "        if l in vowels:\n",
    "            vow_count=vow_count+1\n",
    "VOWEL_P = vow_count/letter_count\n",
    "print(\"vowel fraction: \"+str(VOWEL_P))\n",
    "\n",
    "LETTER_DISTR = {}\n",
    "for l in list('abcdefghijklmnopqrstuvwxyz'):\n",
    "    LETTER_DISTR[l] = 0\n",
    "for t in all_words:\n",
    "    for l in t:\n",
    "        if l in list('abcdefghijklmnopqrstuvwxyz'):\n",
    "            LETTER_DISTR[l] = LETTER_DISTR[l]+1\n",
    "for l in LETTER_DISTR:\n",
    "    LETTER_DISTR[l]=LETTER_DISTR[l]/letter_count\n",
    "    \n",
    "vv = 0\n",
    "vc = 0\n",
    "cc = 0\n",
    "cv = 0\n",
    "def is_vowel(x):\n",
    "    return x in list('aeiou')\n",
    "def is_consonant(x):\n",
    "    return x in list('bcdfghjklmnpqrstvwxyz')\n",
    "\n",
    "for w in all_words:\n",
    "    for i in range(0, len(w)-1):\n",
    "        a = w[i]\n",
    "        b = w[i+1]\n",
    "        if is_vowel(a):\n",
    "            if is_vowel(b):\n",
    "                vv = vv+1\n",
    "                continue\n",
    "            if is_consonant(b):\n",
    "                vc = vc+1\n",
    "                continue\n",
    "        if is_consonant(a):\n",
    "            if is_vowel(b):\n",
    "                cv = cv+1\n",
    "                continue\n",
    "            if is_consonant(b):\n",
    "                cc = cc+1\n",
    "                continue\n",
    "                \n",
    "print(\"v followed by v: \"+str(vv/(vv+vc+cc+cv)))\n",
    "print(\"v followed by c: \"+str(vc/(vv+vc+cc+cv)))\n",
    "print(\"c followed by v: \"+str(cv/(vv+vc+cc+cv)))\n",
    "print(\"c followed by c: \"+str(cc/(vv+vc+cc+cv)))"
   ]
  },
  {
   "cell_type": "code",
   "execution_count": 3,
   "metadata": {},
   "outputs": [],
   "source": [
    "%autoreload\n",
    "T = boggle.Tester(all_words, 4)"
   ]
  },
  {
   "cell_type": "code",
   "execution_count": 4,
   "metadata": {
    "scrolled": true
   },
   "outputs": [
    {
     "name": "stdout",
     "output_type": "stream",
     "text": [
      "avg wordcount: 142.12\n",
      "avg score: 157.421\n"
     ]
    }
   ],
   "source": [
    "%autoreload\n",
    "\n",
    "import datetime\n",
    "import random as rnd\n",
    "\n",
    "def printmatrix(ls, size):\n",
    "    print(ls)\n",
    "    lls = []\n",
    "    for r in range(0,size):\n",
    "        line = []\n",
    "        for c in range(0,size):\n",
    "            line.append(ls[r*size+c])\n",
    "        lls.append(line)\n",
    "    print(\"=====\")\n",
    "    for line in lls:\n",
    "        print(line)\n",
    "\n",
    "CHARSET = list('abcdefghijklmnopqrstuvwxyz')\n",
    "VOWELS = list('aeiou')\n",
    "CONSONANTS = list('bcdfghjklmnpqrstvwxyz')\n",
    "\n",
    "def generateRandom(size):\n",
    "    ls = []\n",
    "    for i in range(0,size*size):\n",
    "        ls.append(CHARSET[rnd.randint(0,len(CHARSET)-1)])\n",
    "    return ls\n",
    "\n",
    "inputs = []\n",
    "for i in range(0,1000):\n",
    "    inputs.append(generateRandom(4))\n",
    "    \n",
    "res = T.test_multiple(inputs)\n",
    "print(\"avg wordcount: \"+str(res.avg_word_num))\n",
    "print(\"avg score: \"+str(res.avg_score))"
   ]
  },
  {
   "cell_type": "code",
   "execution_count": 5,
   "metadata": {},
   "outputs": [
    {
     "name": "stdout",
     "output_type": "stream",
     "text": [
      "avg wordcount: 196.419\n",
      "avg score: 228.751\n"
     ]
    }
   ],
   "source": [
    "def generateVowelRatio(size):\n",
    "    ls = []\n",
    "    for i in range(0, size*size):\n",
    "        x = rnd.random()\n",
    "        if x<=VOWEL_P:\n",
    "            ls.append(rnd.choice(VOWELS))\n",
    "        else:\n",
    "            ls.append(rnd.choice(CONSONANTS))\n",
    "    return ls\n",
    "\n",
    "inputs = []\n",
    "for i in range(0,1000):\n",
    "    inputs.append(generateVowelRatio(4))\n",
    "    \n",
    "res = T.test_multiple(inputs)\n",
    "print(\"avg wordcount: \"+str(res.avg_word_num))\n",
    "print(\"avg score: \"+str(res.avg_score))"
   ]
  },
  {
   "cell_type": "code",
   "execution_count": 6,
   "metadata": {},
   "outputs": [
    {
     "name": "stdout",
     "output_type": "stream",
     "text": [
      "avg wordcount: 404.35\n",
      "avg score: 576.665\n"
     ]
    }
   ],
   "source": [
    "def weighted_random_choice(choices):\n",
    "    m = sum(choices.values())\n",
    "    pick = rnd.uniform(0, m)\n",
    "    current = 0\n",
    "    for key, value in choices.items():\n",
    "        current += value\n",
    "        if current > pick:\n",
    "            return key\n",
    "     \n",
    "def generateFromDistribution(size):\n",
    "    ls = []\n",
    "    for i in range(0,size*size):\n",
    "        ls.append(weighted_random_choice(LETTER_DISTR))\n",
    "    return ls\n",
    "    \n",
    "inputs = []\n",
    "for i in range(0,1000):\n",
    "    inputs.append(generateFromDistribution(4))\n",
    "       \n",
    "res = T.test_multiple(inputs)\n",
    "print(\"avg wordcount: \"+str(res.avg_word_num))\n",
    "print(\"avg score: \"+str(res.avg_score))"
   ]
  },
  {
   "cell_type": "code",
   "execution_count": 7,
   "metadata": {},
   "outputs": [
    {
     "name": "stdout",
     "output_type": "stream",
     "text": [
      "avg wordcount: 443.186\n",
      "avg score: 652.858\n"
     ]
    }
   ],
   "source": [
    "VOWEL_DISTR = {}\n",
    "CONSONANT_DISTR = {}\n",
    "for x in LETTER_DISTR:\n",
    "    if x in VOWELS:\n",
    "        VOWEL_DISTR[x]=LETTER_DISTR[x]\n",
    "    else:\n",
    "        CONSONANT_DISTR[x]=LETTER_DISTR[x]\n",
    "\n",
    "def get_ratio(ls):\n",
    "    v_num = 0\n",
    "    if len(ls) == 0:\n",
    "        return 0\n",
    "    for x in ls:\n",
    "        if x in VOWELS:\n",
    "            v_num = v_num+1 \n",
    "    return v_num/len(ls)\n",
    "        \n",
    "def generateFromDistributionBalanced(size):\n",
    "    ls = []\n",
    "    for i in range(0, size*size):\n",
    "        v_ratio = get_ratio(ls)\n",
    "        if v_ratio<VOWEL_P:\n",
    "            ls.append(weighted_random_choice(VOWEL_DISTR))\n",
    "        else:\n",
    "            ls.append(weighted_random_choice(CONSONANT_DISTR))\n",
    "    rnd.shuffle(ls)\n",
    "    return ls\n",
    "           \n",
    "inputs = []\n",
    "for i in range(0,1000):\n",
    "    inputs.append(generateFromDistributionBalanced(4))\n",
    "       \n",
    "res = T.test_multiple(inputs)\n",
    "print(\"avg wordcount: \"+str(res.avg_word_num))\n",
    "print(\"avg score: \"+str(res.avg_score))\n"
   ]
  },
  {
   "cell_type": "code",
   "execution_count": 8,
   "metadata": {},
   "outputs": [
    {
     "name": "stdout",
     "output_type": "stream",
     "text": [
      "100.66\n",
      "103.635\n"
     ]
    }
   ],
   "source": [
    "import matplotlib.pyplot as plt\n",
    "\n",
    "def generateFromVowelNumber(size, vowel_number):\n",
    "    ls = []\n",
    "    for i in range(0,vowel_number):\n",
    "        ls.append(weighted_random_choice(VOWEL_DISTR))\n",
    "    for i in range(vowel_number, size*size):\n",
    "        ls.append(weighted_random_choice(CONSONANT_DISTR))\n",
    "    rnd.shuffle(ls)\n",
    "    return ls\n",
    "\n",
    "counts = []\n",
    "scores = []\n",
    "for i in range(1,16):\n",
    "    inputs = []\n",
    "    for i in range(0,1000):\n",
    "        inputs.append(generateFromVowelNumber(4,i))\n",
    "    res = T.test_multiple(inputs)\n",
    "    counts.append(res.avg_word_num)\n",
    "    scores.append(res.avg_score)\n",
    "    \n",
    "plt.plot(counts)\n",
    "plt.plot(scores)\n",
    "print(np.amax(counts))\n",
    "print(np.amax(scores))"
   ]
  },
  {
   "cell_type": "code",
   "execution_count": 9,
   "metadata": {},
   "outputs": [],
   "source": [
    "def c2i(c):\n",
    "    return ord(c)-ord('a')\n",
    "\n",
    "def i2c(i):\n",
    "    return chr(i+ord('a'))\n",
    "\n",
    "M2 = np.zeros((26,26))\n",
    "count = 0\n",
    "for w in all_words:\n",
    "    count = count+len(w)-1\n",
    "    for i in range(0,len(w)-1):\n",
    "        M2[c2i(w[i]),c2i(w[i+1])] = M2[c2i(w[i]),c2i(w[i+1])]+1\n",
    "  \n",
    "for r in range(0,26):\n",
    "    for c in range(0,r):\n",
    "        M2[r,c] = M2[r,c]+M2[c,r]\n",
    "        M2[c,r] = M2[r,c]"
   ]
  },
  {
   "cell_type": "code",
   "execution_count": 10,
   "metadata": {},
   "outputs": [
    {
     "name": "stdout",
     "output_type": "stream",
     "text": [
      "avg wordcount: 522.862\n",
      "avg score: 822.867\n",
      "avg generation time: 0:00:00.000347\n"
     ]
    }
   ],
   "source": [
    "import datetime\n",
    "\n",
    "size = 4\n",
    "G = boggle.BoggleGraph(size)\n",
    "    \n",
    "def weighted_random_choice_arg(distribution):\n",
    "    m = sum(distribution)\n",
    "    pick = rnd.uniform(0, m)\n",
    "    current = 0\n",
    "    for i in range(0,len(distribution)):\n",
    "        current += distribution[i]\n",
    "        if current > pick:\n",
    "            return i\n",
    "        \n",
    "def generateFromAdjacencyDistribution(size, matrix, adjacency):\n",
    "    out = []\n",
    "    for i in range(0,size*size):\n",
    "        out.append('_')\n",
    "    #fringe node is (index, parent_char)\n",
    "    fringe = []\n",
    "    fringe.append( (rnd.randint(0, size*size-1), c2i(weighted_random_choice(LETTER_DISTR))) )\n",
    "    to_visit = np.arange(0,size*size, 1).tolist()\n",
    "    while len(fringe) > 0:\n",
    "        #pick\n",
    "        i = rnd.randint(0,len(fringe)-1)\n",
    "        cur = fringe.pop(i)\n",
    "        if cur[0] not in to_visit:\n",
    "            continue\n",
    "        to_visit.remove(cur[0])\n",
    "        #visit\n",
    "        l = weighted_random_choice_arg(matrix[cur[1]])\n",
    "        out[cur[0]] = i2c(l)\n",
    "        #succ\n",
    "        succ = list(filter(lambda x: x in to_visit, adjacency[cur[0]]))\n",
    "        for s in succ:\n",
    "            fringe.append( (s,l) )\n",
    "    return out\n",
    "\n",
    "t1 = datetime.datetime.now()\n",
    "inputs = []\n",
    "for i in range(0,1000):\n",
    "    inputs.append(generateFromAdjacencyDistribution(4,M2,G.adjacency))\n",
    "t2 = datetime.datetime.now()\n",
    "    \n",
    "res = T.test_multiple(inputs)\n",
    "print(\"avg wordcount: \"+str(res.avg_word_num))\n",
    "print(\"avg score: \"+str(res.avg_score))\n",
    "print(\"avg generation time: \"+str((t2-t1)/1000))"
   ]
  },
  {
   "cell_type": "code",
   "execution_count": 24,
   "metadata": {},
   "outputs": [
    {
     "name": "stdout",
     "output_type": "stream",
     "text": [
      "avg wordcount: 950.502\n",
      "avg score: 1954.637\n",
      "avg generation time: 0:00:00.000552\n"
     ]
    }
   ],
   "source": [
    "def combineDistributions(distributionList):\n",
    "    ls = []\n",
    "    for i in range(0,len(distributionList[0])):\n",
    "        v = 1\n",
    "        for j in range(0, len(distributionList)):\n",
    "            v = v*(distributionList[j])[i]\n",
    "        ls.append(v)\n",
    "    return ls\n",
    "        \n",
    "def generateFromCombinedAdjacency(size, matrix, adjacency, seed_size):\n",
    "    out = []\n",
    "    distributions = []\n",
    "    for i in range(0,size*size):\n",
    "        out.append('_')\n",
    "        distributions.append([])\n",
    "    fringe = [] #fringe node is (index)\n",
    "    \n",
    "    #seeding and seed visit\n",
    "    seed = []\n",
    "    indexes = np.arange(0,size*size, 1)\n",
    "    rnd.shuffle(indexes)\n",
    "    to_visit = np.arange(0,size*size, 1).tolist()\n",
    "    for i in range(0, seed_size):    \n",
    "        cur = indexes[i]\n",
    "        to_visit.remove(cur)\n",
    "        l = weighted_random_choice_arg(matrix[cur])\n",
    "        out[cur] = i2c(l)\n",
    "        #succ\n",
    "        succ = list(filter(lambda x: x in to_visit, adjacency[cur]))\n",
    "        fringe.extend(succ)\n",
    "        for s in succ:\n",
    "            distributions[s].append(matrix[l])\n",
    "    \n",
    "    #main loop\n",
    "    while len(fringe) > 0:\n",
    "        #pick\n",
    "        cur = fringe.pop(0)\n",
    "        if cur not in to_visit:\n",
    "            continue\n",
    "        to_visit.remove(cur)\n",
    "        #visit\n",
    "        distr_list = distributions[cur]\n",
    "        l = weighted_random_choice_arg(combineDistributions(distr_list))\n",
    "        out[cur] = i2c(l)\n",
    "        #succ\n",
    "        succ = list(filter(lambda x: x in to_visit, adjacency[cur]))\n",
    "        fringe.extend(succ)\n",
    "        for s in succ:\n",
    "            distributions[s].append(matrix[l])\n",
    "    return out\n",
    "\n",
    "t1 = datetime.datetime.now()\n",
    "inputs = []\n",
    "for i in range(0,1000):\n",
    "    inputs.append(generateFromCombinedAdjacency(4,M2,G.adjacency, 3))\n",
    "t2 = datetime.datetime.now()\n",
    "    \n",
    "res = T.test_multiple(inputs)\n",
    "print(\"avg wordcount: \"+str(res.avg_word_num))\n",
    "print(\"avg score: \"+str(res.avg_score))\n",
    "print(\"avg generation time: \"+str((t2-t1)/1000))"
   ]
  },
  {
   "cell_type": "code",
   "execution_count": 30,
   "metadata": {},
   "outputs": [],
   "source": [
    "w = []\n",
    "s = []\n",
    "for x in range(1,15):\n",
    "    inputs = []\n",
    "    for i in range(0,1000):\n",
    "        inputs.append(generateFromCombinedAdjacency(4,M2,G.adjacency, x))\n",
    "    res = T.test_multiple(inputs)\n",
    "    w.append(res.avg_word_num)\n",
    "    s.append(res.avg_score)"
   ]
  },
  {
   "cell_type": "code",
   "execution_count": 35,
   "metadata": {},
   "outputs": [
    {
     "name": "stdout",
     "output_type": "stream",
     "text": [
      "0\n"
     ]
    }
   ],
   "source": [
    "\n",
    "print(len(WD)-len(SC))"
   ]
  },
  {
   "cell_type": "code",
   "execution_count": null,
   "metadata": {},
   "outputs": [],
   "source": []
  }
 ],
 "metadata": {
  "kernelspec": {
   "display_name": "Python 3",
   "language": "python",
   "name": "python3"
  },
  "language_info": {
   "codemirror_mode": {
    "name": "ipython",
    "version": 3
   },
   "file_extension": ".py",
   "mimetype": "text/x-python",
   "name": "python",
   "nbconvert_exporter": "python",
   "pygments_lexer": "ipython3",
   "version": "3.6.5"
  }
 },
 "nbformat": 4,
 "nbformat_minor": 2
}
